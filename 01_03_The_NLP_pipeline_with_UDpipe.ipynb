{
  "nbformat": 4,
  "nbformat_minor": 0,
  "metadata": {
    "colab": {
      "provenance": []
    },
    "kernelspec": {
      "name": "python3",
      "display_name": "Python 3"
    },
    "language_info": {
      "name": "python"
    }
  },
  "cells": [
    {
      "cell_type": "markdown",
      "source": [
        "SpaCy-UDpipe is a Python library that implements a wrapper to use UDpipe and its NLP pipeline with the user-friendly API of SpaCy.\n",
        "\n",
        "Let's install SpaCy-UDpipe with pip:"
      ],
      "metadata": {
        "id": "1QGeDc4UdzJV"
      }
    },
    {
      "cell_type": "code",
      "execution_count": null,
      "metadata": {
        "id": "AKmTEXrFIS2N"
      },
      "outputs": [],
      "source": [
        "!pip install spacy_udpipe"
      ]
    },
    {
      "cell_type": "markdown",
      "source": [
        "Just like SpaCy, SpaCy-UDpipe needs a pre-trained model for POS tagging, lemmatization, parsing, and other tasks.\n",
        "\n",
        "We will use the default model for English (labeled \"en\").\n",
        "It is possible to load custom models from local files too."
      ],
      "metadata": {
        "id": "F90-z5ZQeONt"
      }
    },
    {
      "cell_type": "code",
      "source": [
        "import spacy_udpipe\n",
        "\n",
        "spacy_udpipe.download(\"en\")"
      ],
      "metadata": {
        "id": "nom0opItIcqH"
      },
      "execution_count": null,
      "outputs": []
    },
    {
      "cell_type": "markdown",
      "source": [
        "Loading a model, an object is created that implements the full pipeline of UDpipe. We'll call this object \"nlp\"."
      ],
      "metadata": {
        "id": "OZqSBWUFeq11"
      }
    },
    {
      "cell_type": "code",
      "source": [
        "nlp = spacy_udpipe.load(\"en\")"
      ],
      "metadata": {
        "id": "INEAaBLCersD"
      },
      "execution_count": null,
      "outputs": []
    },
    {
      "cell_type": "markdown",
      "source": [
        "Analyzing a text is as simple as calling the nlp object directly, passing the text as a string argument.\n",
        "\n",
        "The result is an iterable object (doc). Iterating over doc, a Token object is returned at each step until the end of the document, Each Token has many properties deriving from the NLP analysis of UDpipe."
      ],
      "metadata": {
        "id": "Huqr-gGRe8io"
      }
    },
    {
      "cell_type": "code",
      "source": [
        "text = \"Breakfast is the most important meal of the day.\"\n",
        "\n",
        "doc = nlp(text)\n",
        "\n",
        "for token in doc:\n",
        "    print (token.i, token.idx, token.text, token.lemma_, token.head.i)"
      ],
      "metadata": {
        "id": "ZQvoVFwsJCIJ"
      },
      "execution_count": null,
      "outputs": []
    }
  ]
}
